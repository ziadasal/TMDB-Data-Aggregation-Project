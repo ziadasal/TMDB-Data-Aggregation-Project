{
 "cells": [
  {
   "cell_type": "code",
   "execution_count": 19,
   "metadata": {},
   "outputs": [
    {
     "name": "stdout",
     "output_type": "stream",
     "text": [
      "+---------+--------------------+--------------------+------+--------------------+-----------------+--------------------+--------------------+----------+--------------------+--------------------+------------+----------+-------+--------------------+--------+--------------------+--------------------+------------+----------+\n",
      "|   budget|              genres|            homepage|    id|            keywords|original_language|      original_title|            overview|popularity|production_companies|production_countries|release_date|   revenue|runtime|    spoken_languages|  status|             tagline|               title|vote_average|vote_count|\n",
      "+---------+--------------------+--------------------+------+--------------------+-----------------+--------------------+--------------------+----------+--------------------+--------------------+------------+----------+-------+--------------------+--------+--------------------+--------------------+------------+----------+\n",
      "|237000000|[{\"id\": 28, \"name...|http://www.avatar...| 19995|[{\"id\": 1463, \"na...|               en|              Avatar|In the 22nd centu...| 150.43758|[{\"name\": \"Ingeni...|[{\"iso_3166_1\": \"...|  2009-12-10|      NULL|    162|[{\"iso_639_1\": \"e...|Released|Enter the World o...|              Avatar|         7.2|     11800|\n",
      "|300000000|[{\"id\": 12, \"name...|http://disney.go....|   285|[{\"id\": 270, \"nam...|               en|Pirates of the Ca...|Captain Barbossa,...| 139.08261|[{\"name\": \"Walt D...|[{\"iso_3166_1\": \"...|  2007-05-19| 961000000|    169|[{\"iso_639_1\": \"e...|Released|At the end of the...|Pirates of the Ca...|         6.9|      4500|\n",
      "|245000000|[{\"id\": 28, \"name...|http://www.sonypi...|206647|[{\"id\": 470, \"nam...|               en|             Spectre|A cryptic message...|107.376785|[{\"name\": \"Columb...|[{\"iso_3166_1\": \"...|  2015-10-26| 880674609|    148|[{\"iso_639_1\": \"f...|Released|A Plan No One Esc...|             Spectre|         6.3|      4466|\n",
      "|250000000|[{\"id\": 28, \"name...|http://www.thedar...| 49026|[{\"id\": 849, \"nam...|               en|The Dark Knight R...|Following the dea...| 112.31295|[{\"name\": \"Legend...|[{\"iso_3166_1\": \"...|  2012-07-16|1084939099|    165|[{\"iso_639_1\": \"e...|Released|     The Legend Ends|The Dark Knight R...|         7.6|      9106|\n",
      "|260000000|[{\"id\": 28, \"name...|http://movies.dis...| 49529|[{\"id\": 818, \"nam...|               en|         John Carter|John Carter is a ...| 43.926994|[{\"name\": \"Walt D...|[{\"iso_3166_1\": \"...|  2012-03-07| 284139100|    132|[{\"iso_639_1\": \"e...|Released|Lost in our world...|         John Carter|         6.1|      2124|\n",
      "+---------+--------------------+--------------------+------+--------------------+-----------------+--------------------+--------------------+----------+--------------------+--------------------+------------+----------+-------+--------------------+--------+--------------------+--------------------+------------+----------+\n",
      "only showing top 5 rows\n",
      "\n"
     ]
    }
   ],
   "source": [
    "from pyspark.sql import SparkSession\n",
    "from pyspark.sql.functions import explode, col, count, desc, from_json \n",
    "from pyspark.sql.types import StructType,StructField,StringType,IntegerType,FloatType,DateType,ArrayType\n",
    "\n",
    "spark = SparkSession.builder \\\n",
    "    .appName(\"TMDB Data Aggregation\") \\\n",
    "    .getOrCreate()\n",
    "\n",
    "TMDB_Schema=StructType([StructField(\"budget\",IntegerType(),False),\n",
    "                        StructField('genres', StringType(), nullable=False),\n",
    "                        StructField('homepage', StringType(), nullable=True),\n",
    "                        StructField('id', IntegerType(), nullable=False),\n",
    "                        StructField('keywords', StringType(), nullable=False),\n",
    "                        StructField('original_language', StringType(), nullable=False),\n",
    "                        StructField('original_title', StringType(), nullable=False),\n",
    "                        StructField('overview', StringType(), nullable=True),\n",
    "                        StructField('popularity', FloatType(), nullable=False),\n",
    "                        StructField('production_companies', StringType(), nullable=False),\n",
    "                        StructField('production_countries', StringType(),  nullable=True), \n",
    "                        StructField('release_date', DateType(), nullable=True),\n",
    "                        StructField('revenue', IntegerType(), nullable=False),\n",
    "                        StructField('runtime', StringType(),  nullable=True),\n",
    "                        StructField('spoken_languages', StringType(), nullable=False),\n",
    "                        StructField('status', StringType(), nullable=False),\n",
    "                        StructField('tagline', StringType(), nullable=True),\n",
    "                        StructField('title', StringType(), nullable=False),\n",
    "                        StructField('vote_average', FloatType(), nullable=False),\n",
    "                        StructField('vote_count', IntegerType(), nullable=False)])\n",
    "\n",
    "data = spark.read.csv('tmdb_5000_movies.csv',  schema=TMDB_Schema ,header=True,quote='\"',escape='\"', multiLine=True)\n",
    "\n",
    "data.show(5)"
   ]
  },
  {
   "cell_type": "code",
   "execution_count": 62,
   "metadata": {},
   "outputs": [
    {
     "data": {
      "text/plain": [
       "CompletedProcess(args=['docker', 'cp', '.\\\\tmdb_5000_movies.csv', 'namenode:/tmp/'], returncode=0)"
      ]
     },
     "execution_count": 62,
     "metadata": {},
     "output_type": "execute_result"
    }
   ],
   "source": [
    "import subprocess\n",
    "local_file_path = \".\\tmdb_5000_movies.csv\"\n",
    "# make sure you running docker-compose\n",
    "subprocess.run([\"docker\", \"cp\", local_file_path , \"namenode:/tmp/\"])"
   ]
  },
  {
   "cell_type": "code",
   "execution_count": 60,
   "metadata": {},
   "outputs": [
    {
     "name": "stdout",
     "output_type": "stream",
     "text": [
      "+-----------------+--------------------+----------+\n",
      "|original_language|               title|popularity|\n",
      "+-----------------+--------------------+----------+\n",
      "|               en|             Minions|  875.5813|\n",
      "|               ja|    千と千尋の神隠し| 118.96856|\n",
      "|               es|El laberinto del ...|  90.80941|\n",
      "|               it|Il buono, il brut...| 88.377075|\n",
      "|               fr|Le fabuleux desti...| 73.720245|\n",
      "|               ko|         Snowpiercer| 64.238686|\n",
      "|               zh|            卧虎藏龙| 45.742252|\n",
      "|               pt|      Cidade de Deus| 44.356712|\n",
      "|               id|        Serbuan maut| 40.285095|\n",
      "|               da|What Happens in V...| 38.100487|\n",
      "+-----------------+--------------------+----------+\n",
      "only showing top 10 rows\n",
      "\n"
     ]
    }
   ],
   "source": [
    "popular_films = data.groupBy(data[\"original_language\"]) \\\n",
    "    .agg({\"popularity\": \"max\"}).withColumnRenamed(\"max(popularity)\", \"max_popularity\")\n",
    "\n",
    "data_selected = data.select(data[\"original_language\"].alias(\"language\"), \n",
    "                            data[\"original_title\"].alias(\"title\"), \n",
    "                            data[\"popularity\"])\n",
    "\n",
    "top_popular_films = popular_films.join(data_selected, \n",
    "                                       (popular_films[\"original_language\"] == data_selected[\"language\"]) & \n",
    "                                       (popular_films[\"max_popularity\"] == data_selected[\"popularity\"]))\n",
    "\n",
    "top_popular_films_selected = top_popular_films.select(top_popular_films[\"original_language\"], \n",
    "                                                      top_popular_films[\"title\"], \n",
    "                                                      top_popular_films[\"popularity\"])\\\n",
    "                                                    .orderBy(desc(\"popularity\"))\n",
    "\n",
    "top_popular_films_selected.toPandas().to_csv(\"popular_film_per_lan.csv\", index=False)\n",
    "\n",
    "top_popular_films_selected.show(10)\n"
   ]
  },
  {
   "cell_type": "code",
   "execution_count": 16,
   "metadata": {},
   "outputs": [
    {
     "data": {
      "text/plain": [
       "StructType([StructField('budget', StringType(), True), StructField('genres', StringType(), True), StructField('homepage', StringType(), True), StructField('id', StringType(), True), StructField('keywords', StringType(), True), StructField('original_language', StringType(), True), StructField('original_title', StringType(), True), StructField('overview', StringType(), True), StructField('popularity', StringType(), True), StructField('production_companies', StringType(), True), StructField('production_countries', StringType(), True), StructField('release_date', StringType(), True), StructField('revenue', StringType(), True), StructField('runtime', StringType(), True), StructField('spoken_languages', StringType(), True), StructField('status', StringType(), True), StructField('tagline', StringType(), True), StructField('title', StringType(), True), StructField('vote_average', StringType(), True), StructField('vote_count', StringType(), True)])"
      ]
     },
     "execution_count": 16,
     "metadata": {},
     "output_type": "execute_result"
    }
   ],
   "source": [
    "data.schema"
   ]
  },
  {
   "cell_type": "code",
   "execution_count": 20,
   "metadata": {},
   "outputs": [
    {
     "name": "stdout",
     "output_type": "stream",
     "text": [
      "+---------+--------------------+--------------------+------+--------------------+-----------------+--------------------+--------------------+----------+--------------------+--------------------+------------+----------+-------+--------------------+--------+--------------------+--------------------+------------+----------+\n",
      "|   budget|              genres|            homepage|    id|            keywords|original_language|      original_title|            overview|popularity|production_companies|production_countries|release_date|   revenue|runtime|    spoken_languages|  status|             tagline|               title|vote_average|vote_count|\n",
      "+---------+--------------------+--------------------+------+--------------------+-----------------+--------------------+--------------------+----------+--------------------+--------------------+------------+----------+-------+--------------------+--------+--------------------+--------------------+------------+----------+\n",
      "| 74000000|[{\"id\": 10751, \"n...|http://www.minion...|211672|[{\"id\": 3487, \"na...|               en|             Minions|Minions Stuart, K...|  875.5813|[{\"name\": \"Univer...|[{\"iso_3166_1\": \"...|  2015-06-17|1156730962|     91|[{\"iso_639_1\": \"e...|Released|Before Gru, they ...|             Minions|         6.4|      4571|\n",
      "|165000000|[{\"id\": 12, \"name...|http://www.inters...|157336|[{\"id\": 83, \"name...|               en|        Interstellar|Interstellar chro...|  724.2478|[{\"name\": \"Paramo...|[{\"iso_3166_1\": \"...|  2014-11-05| 675120017|    169|[{\"iso_639_1\": \"e...|Released|Mankind was born ...|        Interstellar|         8.1|     10867|\n",
      "| 58000000|[{\"id\": 28, \"name...|http://www.foxmov...|293660|[{\"id\": 2095, \"na...|               en|            Deadpool|Deadpool tells th...| 514.56995|[{\"name\": \"Twenti...|[{\"iso_3166_1\": \"...|  2016-02-09| 783112979|    108|[{\"iso_639_1\": \"e...|Released|Witness the begin...|            Deadpool|         7.4|     10995|\n",
      "|170000000|[{\"id\": 28, \"name...|http://marvel.com...|118340|[{\"id\": 8828, \"na...|               en|Guardians of the ...|Light years from ...| 481.09863|[{\"name\": \"Marvel...|[{\"iso_3166_1\": \"...|  2014-07-30| 773328629|    121|[{\"iso_639_1\": \"e...|Released|All heroes start ...|Guardians of the ...|         7.9|      9742|\n",
      "|150000000|[{\"id\": 28, \"name...|http://www.madmax...| 76341|[{\"id\": 2964, \"na...|               en|  Mad Max: Fury Road|An apocalyptic st...| 434.27856|[{\"name\": \"Villag...|[{\"iso_3166_1\": \"...|  2015-05-13| 378858340|    120|[{\"iso_639_1\": \"e...|Released|  What a Lovely Day.|  Mad Max: Fury Road|         7.2|      9427|\n",
      "+---------+--------------------+--------------------+------+--------------------+-----------------+--------------------+--------------------+----------+--------------------+--------------------+------------+----------+-------+--------------------+--------+--------------------+--------------------+------------+----------+\n",
      "only showing top 5 rows\n",
      "\n"
     ]
    }
   ],
   "source": [
    "allEnglishMovies = data.filter(data.original_language == 'en')\n",
    "sortedEnglishMovies = allEnglishMovies.orderBy(desc('popularity'))\n",
    "sortedEnglishMovies.show(5)"
   ]
  },
  {
   "cell_type": "code",
   "execution_count": 3,
   "metadata": {},
   "outputs": [
    {
     "name": "stdout",
     "output_type": "stream",
     "text": [
      "+-----+--------+----------------+\n",
      "|   id|    name|number_of_movies|\n",
      "+-----+--------+----------------+\n",
      "|   18|   Drama|            2297|\n",
      "|   35|  Comedy|            1722|\n",
      "|   53|Thriller|            1274|\n",
      "|   28|  Action|            1154|\n",
      "|10749| Romance|             894|\n",
      "+-----+--------+----------------+\n",
      "only showing top 5 rows\n",
      "\n"
     ]
    }
   ],
   "source": [
    "genre_schema = ArrayType(StructType([\n",
    "    StructField(\"id\", StringType(), True),\n",
    "    StructField(\"name\", StringType(), True)\n",
    "]))\n",
    "\n",
    "df_parsed = data.withColumn(\"genres_array\", from_json(col(\"genres\"), genre_schema))\n",
    "\n",
    "df_exploded = df_parsed.withColumn(\"genre\", explode(df_parsed[\"genres_array\"]))\n",
    "\n",
    "genres_aggregated = df_exploded.groupBy(\"genre.id\", \"genre.name\") \\\n",
    "    .agg(count(\"id\").alias(\"number_of_movies\")).orderBy(desc('number_of_movies'))\n",
    "\n",
    "genres_aggregated.toPandas().to_csv(\"Genres_Agggregations.csv\", index=False)\n",
    "\n",
    "genres_aggregated.show(5)\n"
   ]
  }
 ],
 "metadata": {
  "kernelspec": {
   "display_name": "Python 3",
   "language": "python",
   "name": "python3"
  },
  "language_info": {
   "codemirror_mode": {
    "name": "ipython",
    "version": 3
   },
   "file_extension": ".py",
   "mimetype": "text/x-python",
   "name": "python",
   "nbconvert_exporter": "python",
   "pygments_lexer": "ipython3",
   "version": "3.11.0"
  }
 },
 "nbformat": 4,
 "nbformat_minor": 2
}
