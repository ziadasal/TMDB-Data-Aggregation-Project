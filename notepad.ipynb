{
 "cells": [
  {
   "cell_type": "code",
   "execution_count": 1,
   "metadata": {},
   "outputs": [
    {
     "name": "stdout",
     "output_type": "stream",
     "text": [
      "+---------+--------------------+--------------------+------+--------------------+-----------------+--------------------+--------------------+----------+--------------------+--------------------+------------+----------+-------+--------------------+--------+--------------------+--------------------+------------+----------+\n",
      "|   budget|              genres|            homepage|    id|            keywords|original_language|      original_title|            overview|popularity|production_companies|production_countries|release_date|   revenue|runtime|    spoken_languages|  status|             tagline|               title|vote_average|vote_count|\n",
      "+---------+--------------------+--------------------+------+--------------------+-----------------+--------------------+--------------------+----------+--------------------+--------------------+------------+----------+-------+--------------------+--------+--------------------+--------------------+------------+----------+\n",
      "|        0|[{\"id\": 28, \"name...|                NULL| 11891|[{\"id\": 1465, \"na...|               en|Kung Pow: Enter t...|A movie within a ...|  8.288813|[{\"name\": \"Twenti...|[{\"iso_3166_1\": \"...|  2002-01-25|         0|     81|[{\"iso_639_1\": \"e...|Released|                NULL|Kung Pow: Enter t...|         6.1|       159|\n",
      "|237000000|[{\"id\": 28, \"name...|http://www.avatar...| 19995|[{\"id\": 1463, \"na...|               en|              Avatar|In the 22nd centu...|150.437577|[{\"name\": \"Ingeni...|[{\"iso_3166_1\": \"...|  2009-12-10|2787965087|    162|[{\"iso_639_1\": \"e...|Released|Enter the World o...|              Avatar|         7.2|     11800|\n",
      "|300000000|[{\"id\": 12, \"name...|http://disney.go....|   285|[{\"id\": 270, \"nam...|               en|Pirates of the Ca...|Captain Barbossa,...|139.082615|[{\"name\": \"Walt D...|[{\"iso_3166_1\": \"...|  2007-05-19| 961000000|    169|[{\"iso_639_1\": \"e...|Released|At the end of the...|Pirates of the Ca...|         6.9|      4500|\n",
      "|245000000|[{\"id\": 28, \"name...|http://www.sonypi...|206647|[{\"id\": 470, \"nam...|               en|             Spectre|A cryptic message...|107.376788|[{\"name\": \"Columb...|[{\"iso_3166_1\": \"...|  2015-10-26| 880674609|    148|[{\"iso_639_1\": \"f...|Released|A Plan No One Esc...|             Spectre|         6.3|      4466|\n",
      "|250000000|[{\"id\": 28, \"name...|http://www.thedar...| 49026|[{\"id\": 849, \"nam...|               en|The Dark Knight R...|Following the dea...| 112.31295|[{\"name\": \"Legend...|[{\"iso_3166_1\": \"...|  2012-07-16|1084939099|    165|[{\"iso_639_1\": \"e...|Released|     The Legend Ends|The Dark Knight R...|         7.6|      9106|\n",
      "+---------+--------------------+--------------------+------+--------------------+-----------------+--------------------+--------------------+----------+--------------------+--------------------+------------+----------+-------+--------------------+--------+--------------------+--------------------+------------+----------+\n",
      "only showing top 5 rows\n",
      "\n"
     ]
    }
   ],
   "source": [
    "from pyspark.sql import SparkSession\n",
    "from pyspark.sql.functions import explode, col, count, desc, from_json , max\n",
    "from pyspark.sql.types import ArrayType, StringType, StructType, StructField\n",
    "\n",
    "spark = SparkSession.builder \\\n",
    "    .appName(\"TMDB Data Aggregation\") \\\n",
    "    .getOrCreate()\n",
    "\n",
    "data = spark.read.option('header','true').option(\"escape\", \"\\\"\").csv('tmdb_5000_movies.csv')\n",
    "\n",
    "data.show(5)"
   ]
  },
  {
   "cell_type": "code",
   "execution_count": null,
   "metadata": {},
   "outputs": [],
   "source": [
    "import subprocess\n",
    "# Local file path\n",
    "local_file_path = \"tmdb_5000_movies.csv\"\n",
    "\n",
    "# HDFS directory where you want to store the file\n",
    "hdfs_directory = \"/path/to/hdfs/directory/\"\n",
    "\n",
    "# Use subprocess to execute the Hadoop command to copy the file to HDFS\n",
    "subprocess.run([\"hadoop\", \"fs\", \"-put\", \"tmdb_5000_movies.csv\", hdfs_directory])\n"
   ]
  },
  {
   "cell_type": "code",
   "execution_count": 2,
   "metadata": {},
   "outputs": [
    {
     "name": "stdout",
     "output_type": "stream",
     "text": [
      "+-----------------+--------------+\n",
      "|original_language|max_popularity|\n",
      "+-----------------+--------------+\n",
      "|               en|         99.69|\n",
      "|               es|         90.81|\n",
      "|               it|         88.38|\n",
      "|               el|         28.86|\n",
      "|               te|         16.25|\n",
      "|               he|         14.08|\n",
      "|               pl|         13.27|\n",
      "|               nb|         12.98|\n",
      "|               no|         11.21|\n",
      "|               zh|          9.95|\n",
      "+-----------------+--------------+\n",
      "only showing top 10 rows\n",
      "\n"
     ]
    }
   ],
   "source": [
    "popular_films = data.groupBy(\"original_language\") \\\n",
    "    .agg(max(\"popularity\").cast('decimal(10,2)').alias(\"max_popularity\")) \\\n",
    "        .orderBy(desc('max_popularity'))\n",
    "    \n",
    "popular_films.toPandas().to_csv(\"popular_film_per_lan.csv\", index=False)\n",
    "popular_films.show(10)\n"
   ]
  },
  {
   "cell_type": "code",
   "execution_count": 3,
   "metadata": {},
   "outputs": [
    {
     "name": "stdout",
     "output_type": "stream",
     "text": [
      "+-----+--------+----------------+\n",
      "|   id|    name|number_of_movies|\n",
      "+-----+--------+----------------+\n",
      "|   18|   Drama|            2297|\n",
      "|   35|  Comedy|            1722|\n",
      "|   53|Thriller|            1274|\n",
      "|   28|  Action|            1154|\n",
      "|10749| Romance|             894|\n",
      "+-----+--------+----------------+\n",
      "only showing top 5 rows\n",
      "\n"
     ]
    }
   ],
   "source": [
    "genre_schema = ArrayType(StructType([\n",
    "    StructField(\"id\", StringType(), True),\n",
    "    StructField(\"name\", StringType(), True)\n",
    "]))\n",
    "\n",
    "df_parsed = data.withColumn(\"genres_array\", from_json(col(\"genres\"), genre_schema))\n",
    "\n",
    "df_exploded = df_parsed.withColumn(\"genre\", explode(df_parsed[\"genres_array\"]))\n",
    "\n",
    "genres_aggregated = df_exploded.groupBy(\"genre.id\", \"genre.name\") \\\n",
    "    .agg(count(\"id\").alias(\"number_of_movies\")).orderBy(desc('number_of_movies'))\n",
    "\n",
    "genres_aggregated.toPandas().to_csv(\"Genres_Agggregations.csv\", index=False)\n",
    "\n",
    "genres_aggregated.show(5)\n"
   ]
  }
 ],
 "metadata": {
  "kernelspec": {
   "display_name": "Python 3",
   "language": "python",
   "name": "python3"
  },
  "language_info": {
   "codemirror_mode": {
    "name": "ipython",
    "version": 3
   },
   "file_extension": ".py",
   "mimetype": "text/x-python",
   "name": "python",
   "nbconvert_exporter": "python",
   "pygments_lexer": "ipython3",
   "version": "3.11.0"
  }
 },
 "nbformat": 4,
 "nbformat_minor": 2
}
